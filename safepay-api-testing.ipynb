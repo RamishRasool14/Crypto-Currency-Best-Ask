{
 "cells": [
  {
   "cell_type": "markdown",
   "id": "3716ca01",
   "metadata": {},
   "source": [
    "##### Create a JSON API (REST or GraphQL) (using any language + framework you're comfortable with) which will return which cryptocurrency exchange we should use to buy a given amount of Bitcoin to minimise the amount of USD or USDT we'll spend on this trade."
   ]
  },
  {
   "cell_type": "code",
   "execution_count": 40,
   "id": "5c9c9b33",
   "metadata": {},
   "outputs": [],
   "source": [
    "import requests\n",
    "import numpy as np"
   ]
  },
  {
   "cell_type": "code",
   "execution_count": 144,
   "id": "c1b97def",
   "metadata": {
    "scrolled": true
   },
   "outputs": [
    {
     "data": {
      "text/plain": [
       "array([[1.942077e+04, 4.000000e-02],\n",
       "       [1.942083e+04, 8.715400e-01],\n",
       "       [1.942084e+04, 1.121840e+00],\n",
       "       ...,\n",
       "       [1.984033e+04, 5.040000e-03],\n",
       "       [1.984035e+04, 5.100000e-04],\n",
       "       [1.984036e+04, 9.829000e-02]])"
      ]
     },
     "execution_count": 144,
     "metadata": {},
     "output_type": "execute_result"
    }
   ],
   "source": [
    "response = requests.get(\"https://api.binance.com/api/v3/depth?symbol=BTCUSDT&limit=5000\")\n",
    "binance_ask = np.array(response.json()[\"asks\"],dtype = float)\n",
    "binance_ask"
   ]
  },
  {
   "cell_type": "code",
   "execution_count": 145,
   "id": "44edebd4",
   "metadata": {
    "scrolled": true
   },
   "outputs": [
    {
     "data": {
      "text/plain": [
       "array([[1.94215600e+04, 2.00000000e-03, 1.00000000e+00],\n",
       "       [1.94215700e+04, 3.85000000e-02, 1.00000000e+00],\n",
       "       [1.94220900e+04, 1.20000000e-01, 1.00000000e+00],\n",
       "       ...,\n",
       "       [2.67928822e+06, 4.93290000e-04, 1.00000000e+00],\n",
       "       [2.93000000e+06, 1.81085700e-02, 1.00000000e+00],\n",
       "       [1.00000000e+10, 1.00000000e-02, 1.00000000e+00]])"
      ]
     },
     "execution_count": 145,
     "metadata": {},
     "output_type": "execute_result"
    }
   ],
   "source": [
    "response = requests.get(url = \"https://api.exchange.coinbase.com/products/BTC-USDT/book?level=2\", headers={\"accept\": \"application/json\"})\n",
    "coinbase_ask = np.array(response.json()[\"asks\"],dtype = float)\n",
    "coinbase_ask"
   ]
  },
  {
   "cell_type": "code",
   "execution_count": 146,
   "id": "8648ec5b",
   "metadata": {
    "scrolled": true
   },
   "outputs": [
    {
     "data": {
      "text/plain": [
       "array([[1.94180e+04, 1.95780e+00],\n",
       "       [1.94190e+04, 1.84600e+00],\n",
       "       [1.94200e+04, 3.63760e+00],\n",
       "       [1.94210e+04, 2.32130e+00],\n",
       "       [1.94220e+04, 2.59930e+00],\n",
       "       [1.94230e+04, 2.74140e+00],\n",
       "       [1.94240e+04, 2.81600e-01],\n",
       "       [1.94250e+04, 2.60270e+00],\n",
       "       [1.94260e+04, 2.32200e-01],\n",
       "       [1.94270e+04, 1.41350e+00],\n",
       "       [1.94280e+04, 1.00000e-01],\n",
       "       [1.94290e+04, 1.02000e-02],\n",
       "       [1.94310e+04, 3.87000e-02],\n",
       "       [1.94320e+04, 1.62300e-01],\n",
       "       [1.94330e+04, 2.12800e-01],\n",
       "       [1.94350e+04, 2.13300e-01],\n",
       "       [1.94360e+04, 4.12500e-01],\n",
       "       [1.94370e+04, 4.31500e-01],\n",
       "       [1.94380e+04, 1.04310e+00],\n",
       "       [1.94390e+04, 9.71500e-01],\n",
       "       [1.94400e+04, 2.33800e-01],\n",
       "       [1.94410e+04, 1.72420e+00],\n",
       "       [1.94420e+04, 3.83370e+00],\n",
       "       [1.94430e+04, 3.93440e+00],\n",
       "       [1.94440e+04, 7.90200e+00],\n",
       "       [1.94450e+04, 7.63900e-01],\n",
       "       [1.94460e+04, 2.59140e+00],\n",
       "       [1.94470e+04, 2.02850e+00],\n",
       "       [1.94490e+04, 9.10000e-03],\n",
       "       [1.94500e+04, 8.53200e-01],\n",
       "       [1.94510e+04, 1.56576e+01],\n",
       "       [1.94520e+04, 2.59120e+00],\n",
       "       [1.94550e+04, 3.45600e-01],\n",
       "       [1.94560e+04, 1.20000e+00],\n",
       "       [1.94580e+04, 1.08000e-02],\n",
       "       [1.94600e+04, 4.00000e-01],\n",
       "       [1.94610e+04, 6.09370e+00],\n",
       "       [1.94660e+04, 2.00000e-04],\n",
       "       [1.94680e+04, 2.00332e+01],\n",
       "       [1.94720e+04, 1.99900e-01],\n",
       "       [1.94730e+04, 1.00000e-03],\n",
       "       [1.94740e+04, 2.00000e-04],\n",
       "       [1.94750e+04, 1.69978e+01],\n",
       "       [1.94760e+04, 1.00000e-04],\n",
       "       [1.94770e+04, 1.99000e-01],\n",
       "       [1.94780e+04, 6.21000e-02],\n",
       "       [1.94790e+04, 9.10000e-03],\n",
       "       [1.94800e+04, 1.99900e-01],\n",
       "       [1.94810e+04, 1.09000e-02],\n",
       "       [1.94830e+04, 2.80001e+01],\n",
       "       [1.94840e+04, 2.02500e+01],\n",
       "       [1.94850e+04, 2.90000e-03],\n",
       "       [1.94870e+04, 2.52000e+00],\n",
       "       [1.94880e+04, 1.08000e-02],\n",
       "       [1.94900e+04, 3.39900e-01],\n",
       "       [1.94910e+04, 2.00000e-04],\n",
       "       [1.94920e+04, 2.00000e-03],\n",
       "       [1.94950e+04, 2.86300e-01],\n",
       "       [1.94970e+04, 3.27390e+01],\n",
       "       [1.94980e+04, 1.16000e-02],\n",
       "       [1.94990e+04, 2.20120e+00],\n",
       "       [1.95000e+04, 4.10000e-03],\n",
       "       [1.95020e+04, 8.00000e-04],\n",
       "       [1.95050e+04, 9.00000e-04],\n",
       "       [1.95060e+04, 6.05010e+00],\n",
       "       [1.95070e+04, 8.07050e+00],\n",
       "       [1.95090e+04, 3.98000e-02],\n",
       "       [1.95100e+04, 1.70000e-03],\n",
       "       [1.95110e+04, 2.00000e-03],\n",
       "       [1.95120e+04, 5.05000e-02],\n",
       "       [1.95130e+04, 2.20000e-03],\n",
       "       [1.95140e+04, 2.75279e+01],\n",
       "       [1.95170e+04, 2.90113e+01],\n",
       "       [1.95180e+04, 1.07000e-02],\n",
       "       [1.95190e+04, 4.90000e-03],\n",
       "       [1.95200e+04, 1.94000e-02],\n",
       "       [1.95210e+04, 3.00000e-04],\n",
       "       [1.95240e+04, 1.00000e-04],\n",
       "       [1.95250e+04, 2.01000e-01],\n",
       "       [1.95270e+04, 1.50000e-03],\n",
       "       [1.95280e+04, 8.00000e-04],\n",
       "       [1.95290e+04, 3.00000e-04],\n",
       "       [1.95300e+04, 6.40000e-03],\n",
       "       [1.95310e+04, 6.00000e-04],\n",
       "       [1.95320e+04, 3.30000e-03],\n",
       "       [1.95330e+04, 4.00000e-04],\n",
       "       [1.95340e+04, 5.00000e-04],\n",
       "       [1.95350e+04, 1.00000e-04],\n",
       "       [1.95360e+04, 1.10000e-03],\n",
       "       [1.95370e+04, 2.10000e-03],\n",
       "       [1.95380e+04, 3.09989e+01],\n",
       "       [1.95390e+04, 9.50000e-03],\n",
       "       [1.95400e+04, 2.10000e-03],\n",
       "       [1.95410e+04, 9.39000e+00],\n",
       "       [1.95430e+04, 3.00000e-04],\n",
       "       [1.95440e+04, 1.30000e-03],\n",
       "       [1.95450e+04, 1.00000e-04],\n",
       "       [1.95460e+04, 4.90000e-03],\n",
       "       [1.95470e+04, 1.70000e-03],\n",
       "       [1.95480e+04, 1.10000e-02]])"
      ]
     },
     "execution_count": 146,
     "metadata": {},
     "output_type": "execute_result"
    }
   ],
   "source": [
    "response = requests.get(\" https://ftx.com/api/markets/BTC/USDT/orderbook?depth=100\")\n",
    "ftx_ask = np.array(response.json()[\"result\"][\"asks\"],dtype = float)\n",
    "ftx_ask"
   ]
  },
  {
   "cell_type": "code",
   "execution_count": 135,
   "id": "a2267fe9",
   "metadata": {},
   "outputs": [
    {
     "data": {
      "text/plain": [
       "(5000, 4127, 100)"
      ]
     },
     "execution_count": 135,
     "metadata": {},
     "output_type": "execute_result"
    }
   ],
   "source": [
    "len(binance_ask), len(coinbase_ask), len(ftx_ask)"
   ]
  },
  {
   "cell_type": "code",
   "execution_count": 209,
   "id": "45524fe5",
   "metadata": {},
   "outputs": [
    {
     "data": {
      "text/plain": [
       "{'btcAmount': 1.4403, 'usdAmount': 19352.0, 'Exchange': 'FTX'}"
      ]
     },
     "execution_count": 209,
     "metadata": {},
     "output_type": "execute_result"
    }
   ],
   "source": [
    "amount = 1.2\n",
    "def get_best_price(amount):\n",
    "    btcAmount = None\n",
    "    usdAmount = None\n",
    "    Exchange = None\n",
    "    \n",
    "    response = requests.get(\"https://api.binance.com/api/v3/depth?symbol=BTCUSDT&limit=5000\")\n",
    "    binance_ask = np.array(response.json()[\"asks\"],dtype = float)\n",
    "    \n",
    "    response = requests.get(url = \"https://api.exchange.coinbase.com/products/BTC-USDT/book?level=2\", headers={\"accept\": \"application/json\"})\n",
    "    coinbase_ask = np.array(response.json()[\"asks\"],dtype = float)\n",
    "    \n",
    "    response = requests.get(\" https://ftx.com/api/markets/BTC/USDT/orderbook?depth=100\")\n",
    "    ftx_ask = np.array(response.json()[\"result\"][\"asks\"],dtype = float)\n",
    "    \n",
    "    order_by = 1\n",
    "    \n",
    "    filtered_binance = binance_ask[binance_ask[:,1] >= amount ]\n",
    "    filtered_binance = filtered_binance[filtered_binance[:, order_by].argsort()]\n",
    "    \n",
    "    filtered_coinbase = coinbase_ask[coinbase_ask[:,1] >= amount ]\n",
    "    filtered_coinbase = filtered_coinbase[filtered_coinbase[:, order_by].argsort()]\n",
    "    \n",
    "    filtered_ftx = ftx_ask[ftx_ask[:,1] >= amount ]\n",
    "    filtered_ftx = filtered_ftx[filtered_ftx[:, order_by].argsort()]\n",
    "    \n",
    "    exchanges = [\"Binance\", \"Coinbase\", \"FTX\"]\n",
    "    filtered_exchange_order_books = [filtered_binance, filtered_coinbase, filtered_ftx]\n",
    "    \n",
    "    lowest_asks = []\n",
    "    for filtered in filtered_exchange_order_books:\n",
    "        if len(filtered) != 0:\n",
    "            lowest_asks.append(filtered[0,0])\n",
    "        else:\n",
    "            lowest_asks.append(float('inf'))\n",
    "            \n",
    "    min_index = lowest_asks.index(min(lowest_asks))\n",
    "    try:\n",
    "        btcAmount = filtered_exchange_order_books[min_index][0,1]\n",
    "        usdAmount = filtered_exchange_order_books[min_index][0,0]\n",
    "        Exchange = exchanges[min_index]\n",
    "    except:\n",
    "        pass\n",
    "    \n",
    "    return {\"btcAmount\": btcAmount,\"usdAmount\": usdAmount ,\"Exchange\":Exchange}\n",
    "\n",
    "get_best_price(amount)"
   ]
  },
  {
   "cell_type": "code",
   "execution_count": 156,
   "id": "a63abab9",
   "metadata": {},
   "outputs": [
    {
     "data": {
      "text/plain": [
       "19510.0"
      ]
     },
     "execution_count": 156,
     "metadata": {},
     "output_type": "execute_result"
    }
   ],
   "source": [
    "filtered_binance = binance_ask[binance_ask[:,1] >= amount ]\n",
    "filtered_binance = filtered_binance[filtered_binance[:, 1].argsort()]\n",
    "binance_lowest_ask = filtered_binance[0,0]\n",
    "binance_lowest_ask\n",
    "# filtered"
   ]
  },
  {
   "cell_type": "code",
   "execution_count": 170,
   "id": "efe715a8",
   "metadata": {},
   "outputs": [
    {
     "ename": "IndexError",
     "evalue": "index 0 is out of bounds for axis 0 with size 0",
     "output_type": "error",
     "traceback": [
      "\u001b[0;31m---------------------------------------------------------------------------\u001b[0m",
      "\u001b[0;31mIndexError\u001b[0m                                Traceback (most recent call last)",
      "Cell \u001b[0;32mIn [170], line 3\u001b[0m\n\u001b[1;32m      1\u001b[0m filtered_coinbase \u001b[38;5;241m=\u001b[39m coinbase_ask[coinbase_ask[:,\u001b[38;5;241m1\u001b[39m] \u001b[38;5;241m>\u001b[39m\u001b[38;5;241m=\u001b[39m amount ]\n\u001b[1;32m      2\u001b[0m filtered_coinbase \u001b[38;5;241m=\u001b[39m filtered_coinbase[filtered_coinbase[:, \u001b[38;5;241m1\u001b[39m]\u001b[38;5;241m.\u001b[39margsort()]\n\u001b[0;32m----> 3\u001b[0m coinbase_lowest_ask \u001b[38;5;241m=\u001b[39m \u001b[43mfiltered_coinbase\u001b[49m\u001b[43m[\u001b[49m\u001b[38;5;241;43m0\u001b[39;49m\u001b[43m,\u001b[49m\u001b[38;5;241;43m0\u001b[39;49m\u001b[43m]\u001b[49m\n\u001b[1;32m      4\u001b[0m coinbase_lowest_ask\n",
      "\u001b[0;31mIndexError\u001b[0m: index 0 is out of bounds for axis 0 with size 0"
     ]
    }
   ],
   "source": [
    "filtered_coinbase = coinbase_ask[coinbase_ask[:,1] >= amount ]\n",
    "filtered_coinbase = filtered_coinbase[filtered_coinbase[:, 1].argsort()]\n",
    "coinbase_lowest_ask = filtered_coinbase[0,0]\n",
    "coinbase_lowest_ask"
   ]
  },
  {
   "cell_type": "code",
   "execution_count": 158,
   "id": "57b676f6",
   "metadata": {},
   "outputs": [
    {
     "data": {
      "text/plain": [
       "19506.0"
      ]
     },
     "execution_count": 158,
     "metadata": {},
     "output_type": "execute_result"
    }
   ],
   "source": [
    "filtered_ftx = ftx_ask[ftx_ask[:,1] >= amount ]\n",
    "filtered_ftx = filtered_ftx[filtered_ftx[:, 1].argsort()]\n",
    "ftx_lowest_ask = filtered_ftx[0,0]\n",
    "ftx_lowest_ask"
   ]
  },
  {
   "cell_type": "code",
   "execution_count": 180,
   "id": "088e782c",
   "metadata": {},
   "outputs": [
    {
     "data": {
      "text/plain": [
       "inf"
      ]
     },
     "execution_count": 180,
     "metadata": {},
     "output_type": "execute_result"
    }
   ],
   "source": [
    "float('inf')"
   ]
  },
  {
   "cell_type": "code",
   "execution_count": null,
   "id": "c1e9c920",
   "metadata": {},
   "outputs": [],
   "source": []
  }
 ],
 "metadata": {
  "kernelspec": {
   "display_name": "Python 3 (ipykernel)",
   "language": "python",
   "name": "python3"
  },
  "language_info": {
   "codemirror_mode": {
    "name": "ipython",
    "version": 3
   },
   "file_extension": ".py",
   "mimetype": "text/x-python",
   "name": "python",
   "nbconvert_exporter": "python",
   "pygments_lexer": "ipython3",
   "version": "3.9.12"
  }
 },
 "nbformat": 4,
 "nbformat_minor": 5
}
